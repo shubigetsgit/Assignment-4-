{
 "cells": [
  {
   "cell_type": "code",
   "execution_count": 13,
   "id": "967006fc",
   "metadata": {},
   "outputs": [
    {
     "name": "stdout",
     "output_type": "stream",
     "text": [
      "35\n"
     ]
    }
   ],
   "source": [
    "h=lambda x : x+25\n",
    "print (h(10))\n"
   ]
  },
  {
   "cell_type": "code",
   "execution_count": 14,
   "id": "36993e1e",
   "metadata": {},
   "outputs": [
    {
     "name": "stdout",
     "output_type": "stream",
     "text": [
      "37\n"
     ]
    }
   ],
   "source": [
    "h=lambda x : x+25\n",
    "print (h(12))"
   ]
  },
  {
   "cell_type": "code",
   "execution_count": null,
   "id": "00af4478",
   "metadata": {},
   "outputs": [],
   "source": []
  }
 ],
 "metadata": {
  "kernelspec": {
   "display_name": "Python 3 (ipykernel)",
   "language": "python",
   "name": "python3"
  },
  "language_info": {
   "codemirror_mode": {
    "name": "ipython",
    "version": 3
   },
   "file_extension": ".py",
   "mimetype": "text/x-python",
   "name": "python",
   "nbconvert_exporter": "python",
   "pygments_lexer": "ipython3",
   "version": "3.10.6"
  }
 },
 "nbformat": 4,
 "nbformat_minor": 5
}
